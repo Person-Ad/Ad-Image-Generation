{
 "cells": [
  {
   "cell_type": "code",
   "execution_count": 10,
   "id": "45c71a5a",
   "metadata": {},
   "outputs": [],
   "source": [
    "import os\n",
    "import sys\n",
    "import json\n",
    "from pathlib import Path\n",
    "sys.path.append(os.path.abspath('..'))\n",
    "\n",
    "from pcdms.InpaintingStage import *"
   ]
  },
  {
   "cell_type": "code",
   "execution_count": 11,
   "id": "f3fd5fa2",
   "metadata": {},
   "outputs": [
    {
     "name": "stdout",
     "output_type": "stream",
     "text": [
      "The autoreload extension is already loaded. To reload it, use:\n",
      "  %reload_ext autoreload\n"
     ]
    }
   ],
   "source": [
    "%load_ext autoreload\n",
    "%autoreload 2"
   ]
  },
  {
   "cell_type": "code",
   "execution_count": 3,
   "id": "42283e29",
   "metadata": {},
   "outputs": [
    {
     "name": "stderr",
     "output_type": "stream",
     "text": [
      "\u001b[32m2025-06-08 01:40:43.212\u001b[0m | \u001b[1mINFO    \u001b[0m | \u001b[36mpcdms.InpaintingStage\u001b[0m:\u001b[36mload_pipeline\u001b[0m:\u001b[36m148\u001b[0m - \u001b[1mstart loading pipeline ...\u001b[0m\n"
     ]
    },
    {
     "data": {
      "application/vnd.jupyter.widget-view+json": {
       "model_id": "977df2b032fa4a91bbdacdec4e627139",
       "version_major": 2,
       "version_minor": 0
      },
      "text/plain": [
       "Loading Inpainting Stage Pipeline:   0%|          | 0/6 [00:00<?, ?it/s]"
      ]
     },
     "metadata": {},
     "output_type": "display_data"
    },
    {
     "name": "stderr",
     "output_type": "stream",
     "text": [
      "/home/aliaagheis/miniconda3/envs/fast_env/lib/python3.12/site-packages/controlnet_aux/open_pose/body.py:34: FutureWarning: You are using `torch.load` with `weights_only=False` (the current default value), which uses the default pickle module implicitly. It is possible to construct malicious pickle data which will execute arbitrary code during unpickling (See https://github.com/pytorch/pytorch/blob/main/SECURITY.md#untrusted-models for more details). In a future release, the default value for `weights_only` will be flipped to `True`. This limits the functions that could be executed during unpickling. Arbitrary objects will no longer be allowed to be loaded via this mode unless they are explicitly allowlisted by the user via `torch.serialization.add_safe_globals`. We recommend you start setting `weights_only=True` for any use case where you don't have full control of the loaded file. Please open an issue on GitHub for any issues related to this experimental feature.\n",
      "  model_dict = util.transfer(self.model, torch.load(model_path))\n",
      "/home/aliaagheis/miniconda3/envs/fast_env/lib/python3.12/site-packages/controlnet_aux/open_pose/hand.py:14: FutureWarning: You are using `torch.load` with `weights_only=False` (the current default value), which uses the default pickle module implicitly. It is possible to construct malicious pickle data which will execute arbitrary code during unpickling (See https://github.com/pytorch/pytorch/blob/main/SECURITY.md#untrusted-models for more details). In a future release, the default value for `weights_only` will be flipped to `True`. This limits the functions that could be executed during unpickling. Arbitrary objects will no longer be allowed to be loaded via this mode unless they are explicitly allowlisted by the user via `torch.serialization.add_safe_globals`. We recommend you start setting `weights_only=True` for any use case where you don't have full control of the loaded file. Please open an issue on GitHub for any issues related to this experimental feature.\n",
      "  model_dict = util.transfer(self.model, torch.load(model_path))\n",
      "/home/aliaagheis/miniconda3/envs/fast_env/lib/python3.12/site-packages/controlnet_aux/open_pose/face.py:325: FutureWarning: You are using `torch.load` with `weights_only=False` (the current default value), which uses the default pickle module implicitly. It is possible to construct malicious pickle data which will execute arbitrary code during unpickling (See https://github.com/pytorch/pytorch/blob/main/SECURITY.md#untrusted-models for more details). In a future release, the default value for `weights_only` will be flipped to `True`. This limits the functions that could be executed during unpickling. Arbitrary objects will no longer be allowed to be loaded via this mode unless they are explicitly allowlisted by the user via `torch.serialization.add_safe_globals`. We recommend you start setting `weights_only=True` for any use case where you don't have full control of the loaded file. Please open an issue on GitHub for any issues related to this experimental feature.\n",
      "  self.model.load_state_dict(torch.load(face_model_path))\n",
      "Some weights of Stage2_InapintUNet2DConditionModel were not initialized from the model checkpoint at stabilityai/stable-diffusion-2-1-base and are newly initialized: ['class_embedding.linear_1.bias', 'class_embedding.linear_2.weight', 'class_embedding.linear_1.weight', 'class_embedding.linear_2.bias']\n",
      "You should probably TRAIN this model on a down-stream task to be able to use it for predictions and inference.\n",
      "Some weights of Stage2_InapintUNet2DConditionModel were not initialized from the model checkpoint at stabilityai/stable-diffusion-2-1-base and are newly initialized because the shapes did not match:\n",
      "- conv_in.weight: found shape torch.Size([320, 4, 3, 3]) in the checkpoint and torch.Size([320, 9, 3, 3]) in the model instantiated\n",
      "You should probably TRAIN this model on a down-stream task to be able to use it for predictions and inference.\n",
      "/home/aliaagheis/projects/Ad-Image-Generation/src/pcdms/InpaintingStage.py:184: FutureWarning: You are using `torch.load` with `weights_only=False` (the current default value), which uses the default pickle module implicitly. It is possible to construct malicious pickle data which will execute arbitrary code during unpickling (See https://github.com/pytorch/pytorch/blob/main/SECURITY.md#untrusted-models for more details). In a future release, the default value for `weights_only` will be flipped to `True`. This limits the functions that could be executed during unpickling. Arbitrary objects will no longer be allowed to be loaded via this mode unless they are explicitly allowlisted by the user via `torch.serialization.add_safe_globals`. We recommend you start setting `weights_only=True` for any use case where you don't have full control of the loaded file. Please open an issue on GitHub for any issues related to this experimental feature.\n",
      "  self.sd_model.load_state_dict(torch.load(self.checkpoint_path)['module'])\n",
      "\u001b[32m2025-06-08 01:42:36.568\u001b[0m | \u001b[1mINFO    \u001b[0m | \u001b[36mpcdms.InpaintingStage\u001b[0m:\u001b[36mload_pipeline\u001b[0m:\u001b[36m190\u001b[0m - \u001b[1mpipeline loaded successfully\u001b[0m\n"
     ]
    }
   ],
   "source": [
    "stage_config = InpaintingConfig()\n",
    "stage = InpaintingStage(stage_config)"
   ]
  },
  {
   "cell_type": "code",
   "execution_count": 4,
   "id": "25756296",
   "metadata": {},
   "outputs": [],
   "source": [
    "from constants import BASE_DIR\n",
    "sample_input_1 = InpaintingSampleInput(\n",
    "    s_img_path=Path(BASE_DIR / 'datasets/celebrities/mohamed_salah/000001.png').__str__(),\n",
    "    t_img_path=Path(BASE_DIR / 'datasets/celebrities/mohamed_salah/000002.jpg').__str__(),\n",
    ")\n",
    "\n",
    "sample_input_2 = InpaintingSampleInput(\n",
    "    s_img_path=Path(BASE_DIR / 'datasets/celebrities/mohamed_salah/000003.jpg').__str__(),\n",
    "    t_img_path=Path(BASE_DIR / 'datasets/celebrities/mohamed_salah/000004.jpg').__str__(),\n",
    ")"
   ]
  },
  {
   "cell_type": "code",
   "execution_count": 6,
   "id": "615cfdd3",
   "metadata": {},
   "outputs": [
    {
     "data": {
      "application/vnd.jupyter.widget-view+json": {
       "model_id": "9787e4d58811496591c2276e3cc62418",
       "version_major": 2,
       "version_minor": 0
      },
      "text/plain": [
       "  0%|          | 0/50 [00:00<?, ?it/s]"
      ]
     },
     "metadata": {},
     "output_type": "display_data"
    }
   ],
   "source": [
    "outputs = stage([sample_input_1, sample_input_2])"
   ]
  },
  {
   "cell_type": "code",
   "execution_count": 9,
   "id": "81857ffc",
   "metadata": {},
   "outputs": [],
   "source": [
    "# from utils import show_images\n",
    "# show_images(outputs)"
   ]
  },
  {
   "cell_type": "code",
   "execution_count": null,
   "id": "4a2db4aa",
   "metadata": {},
   "outputs": [],
   "source": []
  }
 ],
 "metadata": {
  "kernelspec": {
   "display_name": "fast_env",
   "language": "python",
   "name": "python3"
  },
  "language_info": {
   "codemirror_mode": {
    "name": "ipython",
    "version": 3
   },
   "file_extension": ".py",
   "mimetype": "text/x-python",
   "name": "python",
   "nbconvert_exporter": "python",
   "pygments_lexer": "ipython3",
   "version": "3.12.3"
  }
 },
 "nbformat": 4,
 "nbformat_minor": 5
}
